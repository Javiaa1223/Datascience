{
 "cells": [
  {
   "cell_type": "code",
   "execution_count": null,
   "metadata": {},
   "outputs": [],
   "source": []
  },
  {
   "cell_type": "markdown",
   "metadata": {},
   "source": [
    "#Data Science Tools and Ecosystem\n"
   ]
  },
  {
   "cell_type": "markdown",
   "metadata": {},
   "source": [
    "In this notebook, Data Science Tools and Ecosystem are summarized."
   ]
  },
  {
   "cell_type": "code",
   "execution_count": 2,
   "metadata": {},
   "outputs": [
    {
     "name": "stdout",
     "output_type": "stream",
     "text": [
      "1. Python\n",
      "2. JavaScript\n",
      "3. Java\n",
      "4. C++\n",
      "5. C#\n",
      "6. Go\n",
      "7. Ruby\n",
      "8. Swift\n"
     ]
    }
   ],
   "source": [
    "#Some of the popular languages that Data Scientists use are:\n",
    "programming_languages = [\"Python\", \"JavaScript\", \"Java\", \"C++\", \"C#\", \"Go\", \"Ruby\", \"Swift\"]\n",
    "\n",
    "for index, language in enumerate(programming_languages):\n",
    "  print(f\"{index+1}. {language}\")"
   ]
  },
  {
   "cell_type": "markdown",
   "metadata": {},
   "source": [
    "#Data science tools\n",
    "\n",
    "| LaData Science Tools |\n",
    "|---|\n",
    "| Julia |\n",
    "| Python | \n",
    "| R | "
   ]
  },
  {
   "cell_type": "markdown",
   "metadata": {},
   "source": [
    "###Below are a few examples of evaluating arithmetic expressions in Python"
   ]
  },
  {
   "cell_type": "code",
   "execution_count": 8,
   "metadata": {},
   "outputs": [
    {
     "data": {
      "text/plain": [
       "17"
      ]
     },
     "execution_count": 8,
     "metadata": {},
     "output_type": "execute_result"
    }
   ],
   "source": [
    "\"This a simple arithmetic expression to mutiply then add integers\"\n",
    "(3*4)+5"
   ]
  },
  {
   "cell_type": "code",
   "execution_count": 10,
   "metadata": {},
   "outputs": [
    {
     "name": "stdout",
     "output_type": "stream",
     "text": [
      "3.3333333333333335\n"
     ]
    }
   ],
   "source": [
    "\"This will convert 200 minutes to hours by diving by 60\"\n",
    "\n",
    "Result= (200/60)\n",
    "print(Result)"
   ]
  },
  {
   "cell_type": "code",
   "execution_count": 11,
   "metadata": {},
   "outputs": [
    {
     "name": "stdout",
     "output_type": "stream",
     "text": [
      "- Python\n",
      "- JavaScript\n",
      "- Java\n",
      "- C++\n",
      "- C#\n",
      "- Go\n",
      "- Ruby\n",
      "- Swift\n"
     ]
    }
   ],
   "source": [
    "\"Objectives\"\n",
    "\n",
    "languages = [\"Python\", \"JavaScript\", \"Java\", \"C++\", \"C#\", \"Go\", \"Ruby\", \"Swift\"]\n",
    "\n",
    "for language in languages:\n",
    "  print(f\"- {language}\") "
   ]
  },
  {
   "cell_type": "markdown",
   "metadata": {},
   "source": []
  }
 ],
 "metadata": {
  "kernelspec": {
   "display_name": "Python 3",
   "language": "python",
   "name": "python3"
  },
  "language_info": {
   "codemirror_mode": {
    "name": "ipython",
    "version": 3
   },
   "file_extension": ".py",
   "mimetype": "text/x-python",
   "name": "python",
   "nbconvert_exporter": "python",
   "pygments_lexer": "ipython3",
   "version": "3.11.4"
  }
 },
 "nbformat": 4,
 "nbformat_minor": 2
}
